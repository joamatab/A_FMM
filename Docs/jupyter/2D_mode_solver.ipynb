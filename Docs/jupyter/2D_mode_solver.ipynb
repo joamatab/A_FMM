{
 "cells": [
  {
   "cell_type": "markdown",
   "metadata": {},
   "source": [
    "# 2D Mode solver\n",
    "\n",
    "## Importing packages"
   ]
  },
  {
   "cell_type": "code",
   "execution_count": 2,
   "metadata": {},
   "outputs": [],
   "source": [
    "import numpy as np\n",
    "import matplotlib.pyplot as plt\n",
    "\n",
    "import A_FMM"
   ]
  },
  {
   "cell_type": "code",
   "execution_count": null,
   "metadata": {},
   "outputs": [],
   "source": [
    "a = 1.5\n",
    "ay = 1.0\n",
    "\n",
    "s = 0.300\n",
    "t = 0.050\n",
    "w = 0.4\n",
    "N=10\n",
    "\n",
    "cr = A_FMM.Creator()\n",
    "cr.ridge(12.0, 2.0, 2.0, w/a, s/ay, t/ay)\n",
    "lay = A_FMM.Layer(N,N, creator=cr, Nyx=ay/a) \n",
    "fig, ax = plt.subplots(1,2, figsize=(14, 4))\n",
    "\n",
    "x, y = np.linspace(-1.0, 1.0, 201), np.linspace(-1.0, 1.0, 201)\n",
    "\n",
    "eps = lay.calculate_epsilon(x=x, y=y)\n",
    "_=ax[0].contourf(a*x, a*y, np.squeeze(eps['eps']).T, levels=41)\n",
    "fig.colorbar(_, ax=ax[0], label='Epsilon')\n",
    "ax[0].set_title('Without coordinate trasfomrmation')\n",
    "\n",
    "lay.transform(ex=0.6, ey=0.6)\n",
    "eps = lay.calculate_epsilon(x=x, y=y)\n",
    "_=ax[1].contourf(a*x, a*y, np.squeeze(eps['eps']).T, levels=41)\n",
    "fig.colorbar(_, ax=ax[1], label='Epsilon')\n",
    "ax[1].set_title('With coordinate trasfomrmation')\n",
    "\n",
    "for _ in ax:\n",
    "    _.set_xlabel('x'), _.set_ylabel('y')\n",
    "plt.tight_layout()"
   ]
  },
  {
   "cell_type": "code",
   "execution_count": null,
   "metadata": {},
   "outputs": [],
   "source": [
    "lay.mode(a/1.55)\n",
    "fig, ax = plt.subplots(1,4, figsize=(16, 4))\n",
    "for i in range(4):\n",
    "    print(f'Mode{i} effective index: {index[i]}')\n",
    "    u = lay.create_input({i:1.0})\n",
    "    field = lay.calculate_field(u, x=x, y=y)\n",
    "    Ex = np.squeeze(field['Ex'])\n",
    "    Ey = np.squeeze(field['Ey'])\n",
    "    ax[i].set_title(f'Mode{i}')\n",
    "    _=ax[i].contourf(a*x, a*y, abs(Ex.T) ** 2.0 + abs(Ey.T) **2.0, levels=41)\n",
    "    ax[i].set_xlabel('x')\n",
    "    ax[i].set_ylabel('y')\n",
    "    fig.colorbar(_, ax=ax[i], label='|E|^2')\n",
    "plt.tight_layout()"
   ]
  },
  {
   "cell_type": "markdown",
   "metadata": {},
   "source": [
    "### Covergence test"
   ]
  },
  {
   "cell_type": "code",
   "execution_count": null,
   "metadata": {},
   "outputs": [],
   "source": [
    "a = 4.0\n",
    "ay = 2.0\n",
    "\n",
    "def create_layer(N, s=1.0, t=0.1, w=3.0, a=a, ay=ay):\n",
    "    cr = A_FMM.Creator()\n",
    "    cr.ridge(3.44**2.0, 3.40**2.0, 1.0, w/a, s/ay, t/ay)\n",
    "    lay = A_FMM.Layer(N,N, creator=cr, Nyx=ay/a) \n",
    "    lay.transform(ex=0.6, ey=0.6)\n",
    "    return lay"
   ]
  },
  {
   "cell_type": "code",
   "execution_count": null,
   "metadata": {},
   "outputs": [],
   "source": [
    "N_list = [5, 10, 15, 20, 25]\n",
    "BTE, BTM = [], []\n",
    "BTE_target = 0.3019\n",
    "BTM_target = 0.2674\n",
    "fig, ax = plt.subplots(1, 5 , figsize=(14, 4))\n",
    "i = 0\n",
    "for N in N_list:\n",
    "    lay = create_layer(N)\n",
    "    lay.mode(a/1.15)\n",
    "    n_te = lay.get_index()[0]\n",
    "    n_tm = lay.get_index()[1]\n",
    "    Bte = (n_te**2.0 - 3.4**2.0) / (3.44**2.0 - 3.4**2.0)\n",
    "    Btm = (n_tm**2.0 - 3.4**2.0) / (3.44**2.0 - 3.4**2.0)\n",
    "    BTE.append(Bte)\n",
    "    BTM.append(Btm)\n",
    "\n",
    "\n",
    "ax[0].plot(N_list, [abs(_ - BTE_target) for _ in BTE], '-o')\n",
    "ax[0].plot(N_list, [abs(_ - BTM_target) for _ in BTM], '-o')\n",
    "ax[0].set_yscale('log')\n",
    "ax[0].grid()\n"
   ]
  }
 ],
 "metadata": {
  "interpreter": {
   "hash": "e7370f93d1d0cde622a1f8e1c04877d8463912d04d973331ad4851f04de6915a"
  },
  "kernelspec": {
   "display_name": "Python 3.10.6 64-bit",
   "language": "python",
   "name": "python3"
  },
  "language_info": {
   "codemirror_mode": {
    "name": "ipython",
    "version": 3
   },
   "file_extension": ".py",
   "mimetype": "text/x-python",
   "name": "python",
   "nbconvert_exporter": "python",
   "pygments_lexer": "ipython3",
   "version": "3.10.6"
  },
  "orig_nbformat": 4
 },
 "nbformat": 4,
 "nbformat_minor": 2
}
